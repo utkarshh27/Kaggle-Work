{
 "cells": [
  {
   "cell_type": "code",
   "execution_count": 1,
   "id": "170e80ef",
   "metadata": {
    "execution": {
     "iopub.execute_input": "2023-06-17T15:39:08.153921Z",
     "iopub.status.busy": "2023-06-17T15:39:08.153571Z",
     "iopub.status.idle": "2023-06-17T15:39:08.164111Z",
     "shell.execute_reply": "2023-06-17T15:39:08.163380Z"
    },
    "papermill": {
     "duration": 0.020068,
     "end_time": "2023-06-17T15:39:08.166312",
     "exception": false,
     "start_time": "2023-06-17T15:39:08.146244",
     "status": "completed"
    },
    "tags": []
   },
   "outputs": [
    {
     "name": "stdout",
     "output_type": "stream",
     "text": [
      "/kaggle/input/digit-recognizer/sample_submission.csv\n",
      "/kaggle/input/digit-recognizer/train.csv\n",
      "/kaggle/input/digit-recognizer/test.csv\n"
     ]
    }
   ],
   "source": [
    "import os\n",
    "for dirname, _, filenames in os.walk('/kaggle/input'):\n",
    "    for filename in filenames:\n",
    "        print(os.path.join(dirname, filename))\n"
   ]
  },
  {
   "cell_type": "code",
   "execution_count": 2,
   "id": "ef33a630",
   "metadata": {
    "execution": {
     "iopub.execute_input": "2023-06-17T15:39:08.178459Z",
     "iopub.status.busy": "2023-06-17T15:39:08.177797Z",
     "iopub.status.idle": "2023-06-17T15:39:17.802139Z",
     "shell.execute_reply": "2023-06-17T15:39:17.801000Z"
    },
    "papermill": {
     "duration": 9.633053,
     "end_time": "2023-06-17T15:39:17.804596",
     "exception": false,
     "start_time": "2023-06-17T15:39:08.171543",
     "status": "completed"
    },
    "tags": []
   },
   "outputs": [
    {
     "name": "stderr",
     "output_type": "stream",
     "text": [
      "/opt/conda/lib/python3.10/site-packages/tensorflow_io/python/ops/__init__.py:98: UserWarning: unable to load libtensorflow_io_plugins.so: unable to open file: libtensorflow_io_plugins.so, from paths: ['/opt/conda/lib/python3.10/site-packages/tensorflow_io/python/ops/libtensorflow_io_plugins.so']\n",
      "caused by: ['/opt/conda/lib/python3.10/site-packages/tensorflow_io/python/ops/libtensorflow_io_plugins.so: undefined symbol: _ZN3tsl6StatusC1EN10tensorflow5error4CodeESt17basic_string_viewIcSt11char_traitsIcEENS_14SourceLocationE']\n",
      "  warnings.warn(f\"unable to load libtensorflow_io_plugins.so: {e}\")\n",
      "/opt/conda/lib/python3.10/site-packages/tensorflow_io/python/ops/__init__.py:104: UserWarning: file system plugins are not loaded: unable to open file: libtensorflow_io.so, from paths: ['/opt/conda/lib/python3.10/site-packages/tensorflow_io/python/ops/libtensorflow_io.so']\n",
      "caused by: ['/opt/conda/lib/python3.10/site-packages/tensorflow_io/python/ops/libtensorflow_io.so: undefined symbol: _ZTVN10tensorflow13GcsFileSystemE']\n",
      "  warnings.warn(f\"file system plugins are not loaded: {e}\")\n"
     ]
    }
   ],
   "source": [
    "import numpy as np \n",
    "import pandas as pd \n",
    "\n",
    "import seaborn as sns\n",
    "import matplotlib.pyplot as plt\n",
    "\n",
    "from sklearn.model_selection import train_test_split\n",
    "from sklearn.preprocessing import LabelBinarizer\n",
    "from keras.models import Sequential\n",
    "from keras.layers import Conv2D, MaxPooling2D, Flatten, Dense\n",
    "from keras.optimizers import Adam\n",
    "from keras.callbacks import EarlyStopping\n",
    "from keras.utils import to_categorical"
   ]
  },
  {
   "cell_type": "code",
   "execution_count": 3,
   "id": "fdf7ccc2",
   "metadata": {
    "execution": {
     "iopub.execute_input": "2023-06-17T15:39:17.816580Z",
     "iopub.status.busy": "2023-06-17T15:39:17.815870Z",
     "iopub.status.idle": "2023-06-17T15:39:23.148517Z",
     "shell.execute_reply": "2023-06-17T15:39:23.147240Z"
    },
    "papermill": {
     "duration": 5.3413,
     "end_time": "2023-06-17T15:39:23.151050",
     "exception": false,
     "start_time": "2023-06-17T15:39:17.809750",
     "status": "completed"
    },
    "tags": []
   },
   "outputs": [],
   "source": [
    "train = pd.read_csv('/kaggle/input/digit-recognizer/train.csv')\n",
    "test = pd.read_csv('/kaggle/input/digit-recognizer/test.csv')\n",
    "sample_submission = pd.read_csv('/kaggle/input/digit-recognizer/sample_submission.csv')"
   ]
  },
  {
   "cell_type": "code",
   "execution_count": 4,
   "id": "95ecc077",
   "metadata": {
    "execution": {
     "iopub.execute_input": "2023-06-17T15:39:23.163036Z",
     "iopub.status.busy": "2023-06-17T15:39:23.162687Z",
     "iopub.status.idle": "2023-06-17T15:39:23.169781Z",
     "shell.execute_reply": "2023-06-17T15:39:23.168729Z"
    },
    "papermill": {
     "duration": 0.015452,
     "end_time": "2023-06-17T15:39:23.171878",
     "exception": false,
     "start_time": "2023-06-17T15:39:23.156426",
     "status": "completed"
    },
    "tags": []
   },
   "outputs": [
    {
     "data": {
      "text/plain": [
       "((42000, 785), (28000, 784))"
      ]
     },
     "execution_count": 4,
     "metadata": {},
     "output_type": "execute_result"
    }
   ],
   "source": [
    "train.shape, test.shape"
   ]
  },
  {
   "cell_type": "code",
   "execution_count": 5,
   "id": "e58ae1a9",
   "metadata": {
    "execution": {
     "iopub.execute_input": "2023-06-17T15:39:23.184689Z",
     "iopub.status.busy": "2023-06-17T15:39:23.184090Z",
     "iopub.status.idle": "2023-06-17T15:39:23.315622Z",
     "shell.execute_reply": "2023-06-17T15:39:23.314523Z"
    },
    "papermill": {
     "duration": 0.141212,
     "end_time": "2023-06-17T15:39:23.318034",
     "exception": false,
     "start_time": "2023-06-17T15:39:23.176822",
     "status": "completed"
    },
    "tags": []
   },
   "outputs": [],
   "source": [
    "X=train.drop('label', axis  =1 )\n",
    "y=train['label']"
   ]
  },
  {
   "cell_type": "code",
   "execution_count": 6,
   "id": "50cfa6db",
   "metadata": {
    "execution": {
     "iopub.execute_input": "2023-06-17T15:39:23.329836Z",
     "iopub.status.busy": "2023-06-17T15:39:23.329465Z",
     "iopub.status.idle": "2023-06-17T15:39:23.589769Z",
     "shell.execute_reply": "2023-06-17T15:39:23.588656Z"
    },
    "papermill": {
     "duration": 0.269108,
     "end_time": "2023-06-17T15:39:23.592369",
     "exception": false,
     "start_time": "2023-06-17T15:39:23.323261",
     "status": "completed"
    },
    "tags": []
   },
   "outputs": [],
   "source": [
    "X_train, X_test, y_train, y_test = train_test_split(X,y, test_size=0.2 , random_state= 42)"
   ]
  },
  {
   "cell_type": "code",
   "execution_count": 7,
   "id": "8963c159",
   "metadata": {
    "execution": {
     "iopub.execute_input": "2023-06-17T15:39:23.604541Z",
     "iopub.status.busy": "2023-06-17T15:39:23.604155Z",
     "iopub.status.idle": "2023-06-17T15:39:23.610819Z",
     "shell.execute_reply": "2023-06-17T15:39:23.609436Z"
    },
    "papermill": {
     "duration": 0.01505,
     "end_time": "2023-06-17T15:39:23.612819",
     "exception": false,
     "start_time": "2023-06-17T15:39:23.597769",
     "status": "completed"
    },
    "tags": []
   },
   "outputs": [
    {
     "data": {
      "text/plain": [
       "((33600, 784), (8400, 784), (33600,), (8400,))"
      ]
     },
     "execution_count": 7,
     "metadata": {},
     "output_type": "execute_result"
    }
   ],
   "source": [
    "X_train.shape, X_test.shape, y_train.shape, y_test.shape"
   ]
  },
  {
   "cell_type": "code",
   "execution_count": 8,
   "id": "d1726636",
   "metadata": {
    "execution": {
     "iopub.execute_input": "2023-06-17T15:39:23.624672Z",
     "iopub.status.busy": "2023-06-17T15:39:23.624334Z",
     "iopub.status.idle": "2023-06-17T15:39:23.773299Z",
     "shell.execute_reply": "2023-06-17T15:39:23.772241Z"
    },
    "papermill": {
     "duration": 0.157487,
     "end_time": "2023-06-17T15:39:23.775434",
     "exception": false,
     "start_time": "2023-06-17T15:39:23.617947",
     "status": "completed"
    },
    "tags": []
   },
   "outputs": [
    {
     "data": {
      "text/plain": [
       "((33600, 28, 28, 1), (8400, 28, 28, 1))"
      ]
     },
     "execution_count": 8,
     "metadata": {},
     "output_type": "execute_result"
    }
   ],
   "source": [
    "X_train = X_train.values.reshape(-1, 28, 28, 1) / 255.0\n",
    "X_test = X_test.values.reshape(-1, 28, 28, 1) / 255.0\n",
    "X_train.shape, X_test.shape"
   ]
  },
  {
   "cell_type": "code",
   "execution_count": 9,
   "id": "e8fadf5b",
   "metadata": {
    "execution": {
     "iopub.execute_input": "2023-06-17T15:39:23.788311Z",
     "iopub.status.busy": "2023-06-17T15:39:23.787945Z",
     "iopub.status.idle": "2023-06-17T15:39:23.807599Z",
     "shell.execute_reply": "2023-06-17T15:39:23.806705Z"
    },
    "papermill": {
     "duration": 0.028791,
     "end_time": "2023-06-17T15:39:23.809947",
     "exception": false,
     "start_time": "2023-06-17T15:39:23.781156",
     "status": "completed"
    },
    "tags": []
   },
   "outputs": [],
   "source": [
    "label_binarizer = LabelBinarizer()\n",
    "y_train = label_binarizer.fit_transform(y_train)\n",
    "y_test = label_binarizer.transform(y_test)"
   ]
  },
  {
   "cell_type": "code",
   "execution_count": 10,
   "id": "b6013763",
   "metadata": {
    "execution": {
     "iopub.execute_input": "2023-06-17T15:39:23.823449Z",
     "iopub.status.busy": "2023-06-17T15:39:23.822836Z",
     "iopub.status.idle": "2023-06-17T15:39:24.483324Z",
     "shell.execute_reply": "2023-06-17T15:39:24.482161Z"
    },
    "papermill": {
     "duration": 0.669713,
     "end_time": "2023-06-17T15:39:24.485952",
     "exception": false,
     "start_time": "2023-06-17T15:39:23.816239",
     "status": "completed"
    },
    "tags": []
   },
   "outputs": [],
   "source": [
    "from tensorflow.keras.models import Sequential\n",
    "from tensorflow.keras.layers import Conv2D, MaxPooling2D, Flatten, Dense, Dropout\n",
    "\n",
    "model = Sequential()\n",
    "model.add(Conv2D(32, kernel_size=(3, 3), activation='relu', input_shape=(28, 28, 1)))\n",
    "model.add(Conv2D(64, kernel_size=(3, 3), activation='relu'))\n",
    "model.add(MaxPooling2D(pool_size=(2, 2)))\n",
    "model.add(Dropout(0.25))\n",
    "\n",
    "model.add(Conv2D(128, kernel_size=(3, 3), activation='relu'))\n",
    "model.add(Conv2D(128, kernel_size=(3, 3), activation='relu'))\n",
    "model.add(MaxPooling2D(pool_size=(2, 2)))\n",
    "model.add(Dropout(0.25))\n",
    "\n",
    "model.add(Flatten())\n",
    "model.add(Dense(256, activation='relu'))\n",
    "model.add(Dropout(0.5))\n",
    "model.add(Dense(10, activation='softmax'))"
   ]
  },
  {
   "cell_type": "code",
   "execution_count": 11,
   "id": "3c274996",
   "metadata": {
    "execution": {
     "iopub.execute_input": "2023-06-17T15:39:24.498993Z",
     "iopub.status.busy": "2023-06-17T15:39:24.498606Z",
     "iopub.status.idle": "2023-06-17T15:39:24.504777Z",
     "shell.execute_reply": "2023-06-17T15:39:24.504037Z"
    },
    "papermill": {
     "duration": 0.014895,
     "end_time": "2023-06-17T15:39:24.506684",
     "exception": false,
     "start_time": "2023-06-17T15:39:24.491789",
     "status": "completed"
    },
    "tags": []
   },
   "outputs": [
    {
     "name": "stderr",
     "output_type": "stream",
     "text": [
      "/opt/conda/lib/python3.10/site-packages/keras/optimizers/legacy/rmsprop.py:143: UserWarning: The `lr` argument is deprecated, use `learning_rate` instead.\n",
      "  super().__init__(name, **kwargs)\n"
     ]
    }
   ],
   "source": [
    "from keras.optimizers import RMSprop\n",
    "\n",
    "optimizer = RMSprop(lr=0.001, rho=0.9, epsilon=1e-08, decay=0.0)"
   ]
  },
  {
   "cell_type": "code",
   "execution_count": 12,
   "id": "7e0730f2",
   "metadata": {
    "execution": {
     "iopub.execute_input": "2023-06-17T15:39:24.519562Z",
     "iopub.status.busy": "2023-06-17T15:39:24.518997Z",
     "iopub.status.idle": "2023-06-17T15:39:24.534524Z",
     "shell.execute_reply": "2023-06-17T15:39:24.533728Z"
    },
    "papermill": {
     "duration": 0.024367,
     "end_time": "2023-06-17T15:39:24.536649",
     "exception": false,
     "start_time": "2023-06-17T15:39:24.512282",
     "status": "completed"
    },
    "tags": []
   },
   "outputs": [],
   "source": [
    "model.compile(optimizer = optimizer , loss = \"categorical_crossentropy\", metrics=[\"accuracy\"])"
   ]
  },
  {
   "cell_type": "code",
   "execution_count": 13,
   "id": "da8773ad",
   "metadata": {
    "execution": {
     "iopub.execute_input": "2023-06-17T15:39:24.549337Z",
     "iopub.status.busy": "2023-06-17T15:39:24.548734Z",
     "iopub.status.idle": "2023-06-17T15:39:24.553272Z",
     "shell.execute_reply": "2023-06-17T15:39:24.552549Z"
    },
    "papermill": {
     "duration": 0.013052,
     "end_time": "2023-06-17T15:39:24.555166",
     "exception": false,
     "start_time": "2023-06-17T15:39:24.542114",
     "status": "completed"
    },
    "tags": []
   },
   "outputs": [],
   "source": [
    "early_stopping = EarlyStopping(patience=3, restore_best_weights=True)"
   ]
  },
  {
   "cell_type": "code",
   "execution_count": 14,
   "id": "d2284310",
   "metadata": {
    "execution": {
     "iopub.execute_input": "2023-06-17T15:39:24.568084Z",
     "iopub.status.busy": "2023-06-17T15:39:24.567451Z",
     "iopub.status.idle": "2023-06-17T15:53:10.586054Z",
     "shell.execute_reply": "2023-06-17T15:53:10.584877Z"
    },
    "papermill": {
     "duration": 826.745615,
     "end_time": "2023-06-17T15:53:11.306457",
     "exception": false,
     "start_time": "2023-06-17T15:39:24.560842",
     "status": "completed"
    },
    "tags": []
   },
   "outputs": [
    {
     "name": "stdout",
     "output_type": "stream",
     "text": [
      "Epoch 1/10\n",
      "1050/1050 [==============================] - 84s 79ms/step - loss: 0.2021 - accuracy: 0.9364 - val_loss: 0.0546 - val_accuracy: 0.9831\n",
      "Epoch 2/10\n",
      "1050/1050 [==============================] - 83s 79ms/step - loss: 0.0733 - accuracy: 0.9785 - val_loss: 0.0550 - val_accuracy: 0.9836\n",
      "Epoch 3/10\n",
      "1050/1050 [==============================] - 82s 78ms/step - loss: 0.0584 - accuracy: 0.9820 - val_loss: 0.0413 - val_accuracy: 0.9869\n",
      "Epoch 4/10\n",
      "1050/1050 [==============================] - 82s 78ms/step - loss: 0.0534 - accuracy: 0.9857 - val_loss: 0.0460 - val_accuracy: 0.9899\n",
      "Epoch 5/10\n",
      "1050/1050 [==============================] - 82s 78ms/step - loss: 0.0495 - accuracy: 0.9864 - val_loss: 0.0399 - val_accuracy: 0.9896\n",
      "Epoch 6/10\n",
      "1050/1050 [==============================] - 82s 78ms/step - loss: 0.0523 - accuracy: 0.9863 - val_loss: 0.0360 - val_accuracy: 0.9910\n",
      "Epoch 7/10\n",
      "1050/1050 [==============================] - 82s 79ms/step - loss: 0.0508 - accuracy: 0.9868 - val_loss: 0.0316 - val_accuracy: 0.9905\n",
      "Epoch 8/10\n",
      "1050/1050 [==============================] - 82s 78ms/step - loss: 0.0520 - accuracy: 0.9875 - val_loss: 0.0437 - val_accuracy: 0.9888\n",
      "Epoch 9/10\n",
      "1050/1050 [==============================] - 83s 79ms/step - loss: 0.0531 - accuracy: 0.9866 - val_loss: 0.0338 - val_accuracy: 0.9892\n",
      "Epoch 10/10\n",
      "1050/1050 [==============================] - 83s 79ms/step - loss: 0.0540 - accuracy: 0.9868 - val_loss: 0.0340 - val_accuracy: 0.9901\n"
     ]
    }
   ],
   "source": [
    "history = model.fit(X_train, y_train, batch_size=32, epochs=10, validation_data=(X_test, y_test), callbacks=[early_stopping])"
   ]
  },
  {
   "cell_type": "code",
   "execution_count": 15,
   "id": "58c5356e",
   "metadata": {
    "execution": {
     "iopub.execute_input": "2023-06-17T15:53:12.656182Z",
     "iopub.status.busy": "2023-06-17T15:53:12.655820Z",
     "iopub.status.idle": "2023-06-17T15:53:30.033130Z",
     "shell.execute_reply": "2023-06-17T15:53:30.032185Z"
    },
    "papermill": {
     "duration": 18.033626,
     "end_time": "2023-06-17T15:53:30.035545",
     "exception": false,
     "start_time": "2023-06-17T15:53:12.001919",
     "status": "completed"
    },
    "tags": []
   },
   "outputs": [
    {
     "name": "stdout",
     "output_type": "stream",
     "text": [
      "875/875 [==============================] - 17s 19ms/step\n"
     ]
    }
   ],
   "source": [
    "X_test = test.values.reshape(-1, 28, 28, 1) / 255.0\n",
    "\n",
    "# Make predictions on the test set\n",
    "test_predictions = model.predict(X_test)"
   ]
  },
  {
   "cell_type": "code",
   "execution_count": 16,
   "id": "c2d00c77",
   "metadata": {
    "execution": {
     "iopub.execute_input": "2023-06-17T15:53:31.435339Z",
     "iopub.status.busy": "2023-06-17T15:53:31.434973Z",
     "iopub.status.idle": "2023-06-17T15:53:31.520362Z",
     "shell.execute_reply": "2023-06-17T15:53:31.519195Z"
    },
    "papermill": {
     "duration": 0.751552,
     "end_time": "2023-06-17T15:53:31.522895",
     "exception": false,
     "start_time": "2023-06-17T15:53:30.771343",
     "status": "completed"
    },
    "tags": []
   },
   "outputs": [],
   "source": [
    "test_preds = []\n",
    "for i in range(len(test_predictions)):\n",
    "    test_preds.append(np.argmax(test_predictions[i]))"
   ]
  },
  {
   "cell_type": "code",
   "execution_count": 17,
   "id": "8ef51c39",
   "metadata": {
    "execution": {
     "iopub.execute_input": "2023-06-17T15:53:32.925091Z",
     "iopub.status.busy": "2023-06-17T15:53:32.924718Z",
     "iopub.status.idle": "2023-06-17T15:53:35.513663Z",
     "shell.execute_reply": "2023-06-17T15:53:35.512570Z"
    },
    "papermill": {
     "duration": 3.256708,
     "end_time": "2023-06-17T15:53:35.516246",
     "exception": false,
     "start_time": "2023-06-17T15:53:32.259538",
     "status": "completed"
    },
    "tags": []
   },
   "outputs": [
    {
     "data": {
      "image/png": "[encoded data removed]",
      "text/plain": [
       "<Figure size 2100x900 with 21 Axes>"
      ]
     },
     "metadata": {},
     "output_type": "display_data"
    }
   ],
   "source": [
    "f,ax = plt.subplots(3, 7, figsize=(21,9))\n",
    "for i in range(7):\n",
    "    ax[0][i].imshow(X_test[i])\n",
    "    ax[0][i].set_xlabel(test_preds[i])\n",
    "    ax[1][i].imshow(X_test[i+100])\n",
    "    ax[1][i].set_xlabel(test_preds[i+100])\n",
    "    ax[2][i].imshow(X_test[i+500])\n",
    "    ax[2][i].set_xlabel(test_preds[i+500])\n",
    "    \n",
    "plt.show()"
   ]
  },
  {
   "cell_type": "code",
   "execution_count": 18,
   "id": "74a014e2",
   "metadata": {
    "execution": {
     "iopub.execute_input": "2023-06-17T15:53:36.928102Z",
     "iopub.status.busy": "2023-06-17T15:53:36.927738Z",
     "iopub.status.idle": "2023-06-17T15:53:36.946980Z",
     "shell.execute_reply": "2023-06-17T15:53:36.946050Z"
    },
    "papermill": {
     "duration": 0.691242,
     "end_time": "2023-06-17T15:53:36.949383",
     "exception": false,
     "start_time": "2023-06-17T15:53:36.258141",
     "status": "completed"
    },
    "tags": []
   },
   "outputs": [],
   "source": [
    "sub = pd.read_csv('/kaggle/input/digit-recognizer/sample_submission.csv')"
   ]
  },
  {
   "cell_type": "code",
   "execution_count": 19,
   "id": "f7c1e0d7",
   "metadata": {
    "execution": {
     "iopub.execute_input": "2023-06-17T15:53:38.353008Z",
     "iopub.status.busy": "2023-06-17T15:53:38.351711Z",
     "iopub.status.idle": "2023-06-17T15:53:38.428715Z",
     "shell.execute_reply": "2023-06-17T15:53:38.427569Z"
    },
    "papermill": {
     "duration": 0.814768,
     "end_time": "2023-06-17T15:53:38.431298",
     "exception": false,
     "start_time": "2023-06-17T15:53:37.616530",
     "status": "completed"
    },
    "tags": []
   },
   "outputs": [],
   "source": [
    "sub.Label = test_preds"
   ]
  },
  {
   "cell_type": "code",
   "execution_count": 20,
   "id": "6fd89703",
   "metadata": {
    "execution": {
     "iopub.execute_input": "2023-06-17T15:53:39.845998Z",
     "iopub.status.busy": "2023-06-17T15:53:39.845629Z",
     "iopub.status.idle": "2023-06-17T15:53:39.850158Z",
     "shell.execute_reply": "2023-06-17T15:53:39.849005Z"
    },
    "papermill": {
     "duration": 0.739353,
     "end_time": "2023-06-17T15:53:39.852251",
     "exception": false,
     "start_time": "2023-06-17T15:53:39.112898",
     "status": "completed"
    },
    "tags": []
   },
   "outputs": [],
   "source": [
    "#sub.to_csv('submission.csv', index=False)"
   ]
  }
 ],
 "metadata": {
  "kernelspec": {
   "display_name": "Python 3",
   "language": "python",
   "name": "python3"
  },
  "language_info": {
   "codemirror_mode": {
    "name": "ipython",
    "version": 3
   },
   "file_extension": ".py",
   "mimetype": "text/x-python",
   "name": "python",
   "nbconvert_exporter": "python",
   "pygments_lexer": "ipython3",
   "version": "3.10.10"
  },
  "papermill": {
   "default_parameters": {},
   "duration": 885.116136,
   "end_time": "2023-06-17T15:53:43.558223",
   "environment_variables": {},
   "exception": null,
   "input_path": "__notebook__.ipynb",
   "output_path": "__notebook__.ipynb",
   "parameters": {},
   "start_time": "2023-06-17T15:38:58.442087",
   "version": "2.4.0"
  }
 },
 "nbformat": 4,
 "nbformat_minor": 5
}
