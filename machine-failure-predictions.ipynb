{
 "cells": [
  {
   "cell_type": "code",
   "execution_count": 1,
   "id": "f886bb8b",
   "metadata": {
    "_cell_guid": "b1076dfc-b9ad-4769-8c92-a6c4dae69d19",
    "_kg_hide-input": true,
    "_kg_hide-output": true,
    "_uuid": "8f2839f25d086af736a60e9eeb907d3b93b6e0e5",
    "execution": {
     "iopub.execute_input": "2023-06-14T09:45:13.828537Z",
     "iopub.status.busy": "2023-06-14T09:45:13.828051Z",
     "iopub.status.idle": "2023-06-14T09:45:13.851418Z",
     "shell.execute_reply": "2023-06-14T09:45:13.849962Z"
    },
    "papermill": {
     "duration": 0.042164,
     "end_time": "2023-06-14T09:45:13.854801",
     "exception": false,
     "start_time": "2023-06-14T09:45:13.812637",
     "status": "completed"
    },
    "tags": []
   },
   "outputs": [
    {
     "name": "stdout",
     "output_type": "stream",
     "text": [
      "/kaggle/input/playground-series-s3e17/sample_submission.csv\n",
      "/kaggle/input/playground-series-s3e17/train.csv\n",
      "/kaggle/input/playground-series-s3e17/test.csv\n",
      "/kaggle/input/machine-failure-predictions/machine failure.csv\n"
     ]
    }
   ],
   "source": [
    "import os\n",
    "for dirname, _, filenames in os.walk('/kaggle/input'):\n",
    "    for filename in filenames:\n",
    "        print(os.path.join(dirname, filename))\n"
   ]
  },
  {
   "cell_type": "code",
   "execution_count": 2,
   "id": "9b376e30",
   "metadata": {
    "_kg_hide-input": true,
    "_kg_hide-output": true,
    "execution": {
     "iopub.execute_input": "2023-06-14T09:45:13.880453Z",
     "iopub.status.busy": "2023-06-14T09:45:13.880009Z",
     "iopub.status.idle": "2023-06-14T09:45:18.372723Z",
     "shell.execute_reply": "2023-06-14T09:45:18.371450Z"
    },
    "papermill": {
     "duration": 4.508664,
     "end_time": "2023-06-14T09:45:18.375686",
     "exception": false,
     "start_time": "2023-06-14T09:45:13.867022",
     "status": "completed"
    },
    "tags": []
   },
   "outputs": [],
   "source": [
    "import math\n",
    "import numpy as np\n",
    "import pandas as pd\n",
    "\n",
    "from matplotlib import pyplot as plt\n",
    "import seaborn as sns\n",
    "\n",
    "from scipy.stats.mstats import winsorize\n",
    "from sklearn.preprocessing import OrdinalEncoder\n",
    "from statsmodels.stats.outliers_influence import variance_inflation_factor\n",
    "\n",
    "from sklearn.preprocessing import StandardScaler,LabelEncoder\n",
    "from sklearn.linear_model import LogisticRegression\n",
    "from sklearn.tree import DecisionTreeRegressor\n",
    "from sklearn.ensemble import RandomForestRegressor\n",
    "from lightgbm import LGBMClassifier\n",
    "from xgboost import XGBRegressor\n",
    "from sklearn.model_selection import KFold, StratifiedKFold, train_test_split, GridSearchCV, cross_val_score\n",
    "from xgboost import XGBClassifier\n",
    "from catboost import CatBoostRegressor as cbr\n",
    "from lightgbm import LGBMRegressor as lgbmr\n",
    "from sklearn.metrics import accuracy_score, confusion_matrix, classification_report, roc_curve, auc, precision_recall_curve\n",
    "from sklearn.model_selection import RandomizedSearchCV"
   ]
  },
  {
   "cell_type": "code",
   "execution_count": 3,
   "id": "43f17419",
   "metadata": {
    "execution": {
     "iopub.execute_input": "2023-06-14T09:45:18.404198Z",
     "iopub.status.busy": "2023-06-14T09:45:18.403041Z",
     "iopub.status.idle": "2023-06-14T09:45:18.977713Z",
     "shell.execute_reply": "2023-06-14T09:45:18.976704Z"
    },
    "papermill": {
     "duration": 0.590891,
     "end_time": "2023-06-14T09:45:18.980519",
     "exception": false,
     "start_time": "2023-06-14T09:45:18.389628",
     "status": "completed"
    },
    "tags": []
   },
   "outputs": [],
   "source": [
    "train = pd.read_csv('/kaggle/input/playground-series-s3e17/train.csv')\n",
    "test = pd.read_csv('/kaggle/input/playground-series-s3e17/test.csv')\n",
    "sample_sub = pd.read_csv('/kaggle/input/playground-series-s3e17/sample_submission.csv')"
   ]
  },
  {
   "cell_type": "code",
   "execution_count": 4,
   "id": "c14988f6",
   "metadata": {
    "execution": {
     "iopub.execute_input": "2023-06-14T09:45:19.005892Z",
     "iopub.status.busy": "2023-06-14T09:45:19.005100Z",
     "iopub.status.idle": "2023-06-14T09:45:19.043868Z",
     "shell.execute_reply": "2023-06-14T09:45:19.042583Z"
    },
    "papermill": {
     "duration": 0.05473,
     "end_time": "2023-06-14T09:45:19.046618",
     "exception": false,
     "start_time": "2023-06-14T09:45:18.991888",
     "status": "completed"
    },
    "tags": []
   },
   "outputs": [
    {
     "data": {
      "text/html": [
       "<div>\n",
       "<style scoped>\n",
       "    .dataframe tbody tr th:only-of-type {\n",
       "        vertical-align: middle;\n",
       "    }\n",
       "\n",
       "    .dataframe tbody tr th {\n",
       "        vertical-align: top;\n",
       "    }\n",
       "\n",
       "    .dataframe thead th {\n",
       "        text-align: right;\n",
       "    }\n",
       "</style>\n",
       "<table border=\"1\" class=\"dataframe\">\n",
       "  <thead>\n",
       "    <tr style=\"text-align: right;\">\n",
       "      <th></th>\n",
       "      <th>id</th>\n",
       "      <th>Product ID</th>\n",
       "      <th>Type</th>\n",
       "      <th>Air temperature [K]</th>\n",
       "      <th>Process temperature [K]</th>\n",
       "      <th>Rotational speed [rpm]</th>\n",
       "      <th>Torque [Nm]</th>\n",
       "      <th>Tool wear [min]</th>\n",
       "      <th>Machine failure</th>\n",
       "      <th>TWF</th>\n",
       "      <th>HDF</th>\n",
       "      <th>PWF</th>\n",
       "      <th>OSF</th>\n",
       "      <th>RNF</th>\n",
       "    </tr>\n",
       "  </thead>\n",
       "  <tbody>\n",
       "    <tr>\n",
       "      <th>0</th>\n",
       "      <td>0</td>\n",
       "      <td>L50096</td>\n",
       "      <td>L</td>\n",
       "      <td>300.6</td>\n",
       "      <td>309.6</td>\n",
       "      <td>1596</td>\n",
       "      <td>36.1</td>\n",
       "      <td>140</td>\n",
       "      <td>0</td>\n",
       "      <td>0</td>\n",
       "      <td>0</td>\n",
       "      <td>0</td>\n",
       "      <td>0</td>\n",
       "      <td>0</td>\n",
       "    </tr>\n",
       "    <tr>\n",
       "      <th>1</th>\n",
       "      <td>1</td>\n",
       "      <td>M20343</td>\n",
       "      <td>M</td>\n",
       "      <td>302.6</td>\n",
       "      <td>312.1</td>\n",
       "      <td>1759</td>\n",
       "      <td>29.1</td>\n",
       "      <td>200</td>\n",
       "      <td>0</td>\n",
       "      <td>0</td>\n",
       "      <td>0</td>\n",
       "      <td>0</td>\n",
       "      <td>0</td>\n",
       "      <td>0</td>\n",
       "    </tr>\n",
       "    <tr>\n",
       "      <th>2</th>\n",
       "      <td>2</td>\n",
       "      <td>L49454</td>\n",
       "      <td>L</td>\n",
       "      <td>299.3</td>\n",
       "      <td>308.5</td>\n",
       "      <td>1805</td>\n",
       "      <td>26.5</td>\n",
       "      <td>25</td>\n",
       "      <td>0</td>\n",
       "      <td>0</td>\n",
       "      <td>0</td>\n",
       "      <td>0</td>\n",
       "      <td>0</td>\n",
       "      <td>0</td>\n",
       "    </tr>\n",
       "    <tr>\n",
       "      <th>3</th>\n",
       "      <td>3</td>\n",
       "      <td>L53355</td>\n",
       "      <td>L</td>\n",
       "      <td>301.0</td>\n",
       "      <td>310.9</td>\n",
       "      <td>1524</td>\n",
       "      <td>44.3</td>\n",
       "      <td>197</td>\n",
       "      <td>0</td>\n",
       "      <td>0</td>\n",
       "      <td>0</td>\n",
       "      <td>0</td>\n",
       "      <td>0</td>\n",
       "      <td>0</td>\n",
       "    </tr>\n",
       "    <tr>\n",
       "      <th>4</th>\n",
       "      <td>4</td>\n",
       "      <td>M24050</td>\n",
       "      <td>M</td>\n",
       "      <td>298.0</td>\n",
       "      <td>309.0</td>\n",
       "      <td>1641</td>\n",
       "      <td>35.4</td>\n",
       "      <td>34</td>\n",
       "      <td>0</td>\n",
       "      <td>0</td>\n",
       "      <td>0</td>\n",
       "      <td>0</td>\n",
       "      <td>0</td>\n",
       "      <td>0</td>\n",
       "    </tr>\n",
       "  </tbody>\n",
       "</table>\n",
       "</div>"
      ],
      "text/plain": [
       "   id Product ID Type  Air temperature [K]  Process temperature [K]  \\\n",
       "0   0     L50096    L                300.6                    309.6   \n",
       "1   1     M20343    M                302.6                    312.1   \n",
       "2   2     L49454    L                299.3                    308.5   \n",
       "3   3     L53355    L                301.0                    310.9   \n",
       "4   4     M24050    M                298.0                    309.0   \n",
       "\n",
       "   Rotational speed [rpm]  Torque [Nm]  Tool wear [min]  Machine failure  TWF  \\\n",
       "0                    1596         36.1              140                0    0   \n",
       "1                    1759         29.1              200                0    0   \n",
       "2                    1805         26.5               25                0    0   \n",
       "3                    1524         44.3              197                0    0   \n",
       "4                    1641         35.4               34                0    0   \n",
       "\n",
       "   HDF  PWF  OSF  RNF  \n",
       "0    0    0    0    0  \n",
       "1    0    0    0    0  \n",
       "2    0    0    0    0  \n",
       "3    0    0    0    0  \n",
       "4    0    0    0    0  "
      ]
     },
     "execution_count": 4,
     "metadata": {},
     "output_type": "execute_result"
    }
   ],
   "source": [
    "train.head()"
   ]
  },
  {
   "cell_type": "code",
   "execution_count": 5,
   "id": "342d50b8",
   "metadata": {
    "execution": {
     "iopub.execute_input": "2023-06-14T09:45:19.072010Z",
     "iopub.status.busy": "2023-06-14T09:45:19.070984Z",
     "iopub.status.idle": "2023-06-14T09:45:19.077147Z",
     "shell.execute_reply": "2023-06-14T09:45:19.075875Z"
    },
    "papermill": {
     "duration": 0.021713,
     "end_time": "2023-06-14T09:45:19.079931",
     "exception": false,
     "start_time": "2023-06-14T09:45:19.058218",
     "status": "completed"
    },
    "tags": []
   },
   "outputs": [],
   "source": [
    "train.columns = train.columns.str.replace('[\\[\\]]', '', regex=True)"
   ]
  },
  {
   "cell_type": "code",
   "execution_count": 6,
   "id": "6c06d610",
   "metadata": {
    "execution": {
     "iopub.execute_input": "2023-06-14T09:45:19.106018Z",
     "iopub.status.busy": "2023-06-14T09:45:19.105619Z",
     "iopub.status.idle": "2023-06-14T09:45:19.110613Z",
     "shell.execute_reply": "2023-06-14T09:45:19.109424Z"
    },
    "papermill": {
     "duration": 0.021653,
     "end_time": "2023-06-14T09:45:19.113323",
     "exception": false,
     "start_time": "2023-06-14T09:45:19.091670",
     "status": "completed"
    },
    "tags": []
   },
   "outputs": [],
   "source": [
    "# def summary(df):\n",
    "#     print(f'data shape: {df.shape}')  \n",
    "#     summ = pd.DataFrame(df.dtypes, columns=['data type'])\n",
    "#     summ['missing'] = df.isnull().sum().values \n",
    "#     summ['missing'] = df.isnull().sum().values / len(df)* 100\n",
    "#     summ['unique'] = df.nunique().values\n",
    "#     desc = pd.DataFrame(df.describe(include='all').transpose())\n",
    "#     summ['min'] = desc['min'].values\n",
    "#     summ['max'] = desc['max'].values\n",
    "#     return summ\n",
    "# summary(train)"
   ]
  },
  {
   "cell_type": "code",
   "execution_count": 7,
   "id": "e086655a",
   "metadata": {
    "execution": {
     "iopub.execute_input": "2023-06-14T09:45:19.138210Z",
     "iopub.status.busy": "2023-06-14T09:45:19.137799Z",
     "iopub.status.idle": "2023-06-14T09:45:19.143377Z",
     "shell.execute_reply": "2023-06-14T09:45:19.142244Z"
    },
    "papermill": {
     "duration": 0.021247,
     "end_time": "2023-06-14T09:45:19.146138",
     "exception": false,
     "start_time": "2023-06-14T09:45:19.124891",
     "status": "completed"
    },
    "tags": []
   },
   "outputs": [],
   "source": [
    "# class_counts = train['Machine failure'].value_counts()\n",
    "\n",
    "# colors = ['#FF8C00', '#6495ED']\n",
    "\n",
    "# plt.pie(class_counts, \n",
    "#         labels=class_counts.index, \n",
    "#         autopct='%1.1f%%',\n",
    "#         colors=colors,           \n",
    "#         shadow=True,             \n",
    "#         startangle=90,            \n",
    "#         explode=(0.1, 0),        \n",
    "#         wedgeprops={'edgecolor': 'white'} \n",
    "#         )\n",
    "\n",
    "# plt.legend(class_counts.index, loc='best')\n",
    "# plt.xlabel('Machine failure')\n",
    "# plt.title('Distribution of Machine failure')\n",
    "\n",
    "# plt.axis('equal')\n",
    "# plt.tight_layout()\n",
    "\n",
    "# plt.show()"
   ]
  },
  {
   "cell_type": "code",
   "execution_count": 8,
   "id": "ed9c1d72",
   "metadata": {
    "execution": {
     "iopub.execute_input": "2023-06-14T09:45:19.171839Z",
     "iopub.status.busy": "2023-06-14T09:45:19.171429Z",
     "iopub.status.idle": "2023-06-14T09:45:19.179088Z",
     "shell.execute_reply": "2023-06-14T09:45:19.177915Z"
    },
    "papermill": {
     "duration": 0.023887,
     "end_time": "2023-06-14T09:45:19.181576",
     "exception": false,
     "start_time": "2023-06-14T09:45:19.157689",
     "status": "completed"
    },
    "tags": []
   },
   "outputs": [
    {
     "data": {
      "text/plain": [
       "Index(['id', 'Product ID', 'Type', 'Air temperature K',\n",
       "       'Process temperature K', 'Rotational speed rpm', 'Torque Nm',\n",
       "       'Tool wear min', 'Machine failure', 'TWF', 'HDF', 'PWF', 'OSF', 'RNF'],\n",
       "      dtype='object')"
      ]
     },
     "execution_count": 8,
     "metadata": {},
     "output_type": "execute_result"
    }
   ],
   "source": [
    "train.columns"
   ]
  },
  {
   "cell_type": "code",
   "execution_count": 9,
   "id": "58fa982a",
   "metadata": {
    "execution": {
     "iopub.execute_input": "2023-06-14T09:45:19.206887Z",
     "iopub.status.busy": "2023-06-14T09:45:19.206481Z",
     "iopub.status.idle": "2023-06-14T09:45:19.212313Z",
     "shell.execute_reply": "2023-06-14T09:45:19.211137Z"
    },
    "papermill": {
     "duration": 0.021562,
     "end_time": "2023-06-14T09:45:19.214697",
     "exception": false,
     "start_time": "2023-06-14T09:45:19.193135",
     "status": "completed"
    },
    "tags": []
   },
   "outputs": [],
   "source": [
    "# numeric_columns = ['Air temperature K', 'Process temperature K', 'Rotational speed rpm', 'Torque Nm', 'Tool wear min', 'Machine failure', 'TWF', 'HDF', 'PWF', 'OSF', 'RNF']\n",
    "# num_cols = len(numeric_columns)\n",
    "# num_rows = math.ceil(num_cols / 4)\n",
    "\n",
    "# fig, axes = plt.subplots(num_rows, 4, figsize=(18, num_rows * 3))\n",
    "# fig.suptitle('Distribution of Features in Train Dataset', fontsize=16)\n",
    "\n",
    "# for i, column in enumerate(numeric_columns):\n",
    "#     row = i // 4\n",
    "#     col = i % 4\n",
    "#     ax = axes[row, col] if num_rows > 1 else axes[col]\n",
    "\n",
    "#     sns.histplot(data=train, x=column, kde=True, ax=ax)\n",
    "#     ax.set_title(f'{column} Distribution', fontsize=12)\n",
    "#     ax.set_xlabel(column)\n",
    "#     ax.set_ylabel('Frequency')\n",
    "\n",
    "#     min_value = train[column].min()\n",
    "#     max_value = train[column].max()\n",
    "#     mean_value = train[column].mean()\n",
    "#     ax.axvline(min_value, color='r', linestyle='--', label='Min')\n",
    "#     ax.axvline(max_value, color='g', linestyle='--', label='Max')\n",
    "#     ax.axvline(mean_value, color='b', linestyle='--', label='Mean')\n",
    "#     ax.legend()\n",
    "\n",
    "# fig.tight_layout()\n",
    "# plt.show()\n"
   ]
  },
  {
   "cell_type": "code",
   "execution_count": 10,
   "id": "4a02f543",
   "metadata": {
    "execution": {
     "iopub.execute_input": "2023-06-14T09:45:19.240164Z",
     "iopub.status.busy": "2023-06-14T09:45:19.239718Z",
     "iopub.status.idle": "2023-06-14T09:45:19.244883Z",
     "shell.execute_reply": "2023-06-14T09:45:19.243674Z"
    },
    "papermill": {
     "duration": 0.021058,
     "end_time": "2023-06-14T09:45:19.247744",
     "exception": false,
     "start_time": "2023-06-14T09:45:19.226686",
     "status": "completed"
    },
    "tags": []
   },
   "outputs": [],
   "source": [
    "# corr = train.corr(numeric_only=True)\n",
    "# corr.style.background_gradient(cmap='coolwarm')"
   ]
  },
  {
   "cell_type": "code",
   "execution_count": 11,
   "id": "8cd94c39",
   "metadata": {
    "execution": {
     "iopub.execute_input": "2023-06-14T09:45:19.273536Z",
     "iopub.status.busy": "2023-06-14T09:45:19.273122Z",
     "iopub.status.idle": "2023-06-14T09:45:19.278289Z",
     "shell.execute_reply": "2023-06-14T09:45:19.277154Z"
    },
    "papermill": {
     "duration": 0.02118,
     "end_time": "2023-06-14T09:45:19.280734",
     "exception": false,
     "start_time": "2023-06-14T09:45:19.259554",
     "status": "completed"
    },
    "tags": []
   },
   "outputs": [],
   "source": [
    "# sns.pairplot(data = train, hue=\"Machine failure\", corner = True);"
   ]
  },
  {
   "cell_type": "code",
   "execution_count": 12,
   "id": "1a495006",
   "metadata": {
    "execution": {
     "iopub.execute_input": "2023-06-14T09:45:19.307083Z",
     "iopub.status.busy": "2023-06-14T09:45:19.306229Z",
     "iopub.status.idle": "2023-06-14T09:45:19.311293Z",
     "shell.execute_reply": "2023-06-14T09:45:19.310119Z"
    },
    "papermill": {
     "duration": 0.020739,
     "end_time": "2023-06-14T09:45:19.313612",
     "exception": false,
     "start_time": "2023-06-14T09:45:19.292873",
     "status": "completed"
    },
    "tags": []
   },
   "outputs": [],
   "source": [
    "# train.duplicated().sum(), test.duplicated().sum()"
   ]
  },
  {
   "cell_type": "code",
   "execution_count": 13,
   "id": "60a747cc",
   "metadata": {
    "execution": {
     "iopub.execute_input": "2023-06-14T09:45:19.338632Z",
     "iopub.status.busy": "2023-06-14T09:45:19.338201Z",
     "iopub.status.idle": "2023-06-14T09:45:19.343968Z",
     "shell.execute_reply": "2023-06-14T09:45:19.342688Z"
    },
    "papermill": {
     "duration": 0.021443,
     "end_time": "2023-06-14T09:45:19.346603",
     "exception": false,
     "start_time": "2023-06-14T09:45:19.325160",
     "status": "completed"
    },
    "tags": []
   },
   "outputs": [],
   "source": [
    "# numeric_cols = ['Air temperature K', 'Process temperature K', 'Rotational speed rpm', 'Torque Nm', 'Tool wear min']\n",
    "\n",
    "# vif = pd.DataFrame()\n",
    "# vif[\"features\"] = numeric_cols\n",
    "# vif[\"vif_factor\"] = [variance_inflation_factor(train[numeric_cols].values, i) for i in range(train[numeric_cols].shape[1])]\n",
    "# vif.sort_values(\"vif_factor\", ascending=False)"
   ]
  },
  {
   "cell_type": "code",
   "execution_count": 14,
   "id": "3dd3f0cd",
   "metadata": {
    "execution": {
     "iopub.execute_input": "2023-06-14T09:45:19.371773Z",
     "iopub.status.busy": "2023-06-14T09:45:19.371354Z",
     "iopub.status.idle": "2023-06-14T09:45:19.376813Z",
     "shell.execute_reply": "2023-06-14T09:45:19.375620Z"
    },
    "papermill": {
     "duration": 0.020762,
     "end_time": "2023-06-14T09:45:19.379147",
     "exception": false,
     "start_time": "2023-06-14T09:45:19.358385",
     "status": "completed"
    },
    "tags": []
   },
   "outputs": [],
   "source": [
    "# def boxplots(df):\n",
    "#     cols = df.columns[2:-1]\n",
    "#     n = (len(cols) - 1) // 6 + 1\n",
    "#     m = min(len(cols), 6)\n",
    "    \n",
    "#     palette = sns.color_palette(\"Set3\", len(cols))\n",
    "#     palette_colors = [tuple(palette[i]) for i in range(len(cols))]\n",
    "    \n",
    "#     fig, axes = plt.subplots(nrows=n, ncols=m, figsize=(15, 6))\n",
    "#     for idx, col in enumerate(cols):\n",
    "#         i = idx // m\n",
    "#         j = idx % m\n",
    "#         if df[col].dtype == 'object':\n",
    "#             sns.countplot(data=df, x=col, ax=axes[i][j], palette=[palette_colors[idx]])\n",
    "#         else:\n",
    "#             sns.boxplot(data=df, x=col, ax=axes[i][j], palette=[palette_colors[idx]])\n",
    "    \n",
    "#     plt.tight_layout()\n",
    "#     plt.show()\n",
    "\n",
    "# boxplots(train)"
   ]
  },
  {
   "cell_type": "code",
   "execution_count": 15,
   "id": "34ddfa0e",
   "metadata": {
    "execution": {
     "iopub.execute_input": "2023-06-14T09:45:19.404442Z",
     "iopub.status.busy": "2023-06-14T09:45:19.403995Z",
     "iopub.status.idle": "2023-06-14T09:45:19.469792Z",
     "shell.execute_reply": "2023-06-14T09:45:19.468458Z"
    },
    "papermill": {
     "duration": 0.082083,
     "end_time": "2023-06-14T09:45:19.472817",
     "exception": false,
     "start_time": "2023-06-14T09:45:19.390734",
     "status": "completed"
    },
    "tags": []
   },
   "outputs": [],
   "source": [
    "categorical_cols = [\"Type\"]\n",
    "encoder = OrdinalEncoder()\n",
    "train[categorical_cols] = encoder.fit_transform(train[categorical_cols])"
   ]
  },
  {
   "cell_type": "code",
   "execution_count": 16,
   "id": "6042ef00",
   "metadata": {
    "execution": {
     "iopub.execute_input": "2023-06-14T09:45:19.497883Z",
     "iopub.status.busy": "2023-06-14T09:45:19.497460Z",
     "iopub.status.idle": "2023-06-14T09:45:19.508265Z",
     "shell.execute_reply": "2023-06-14T09:45:19.507308Z"
    },
    "papermill": {
     "duration": 0.026529,
     "end_time": "2023-06-14T09:45:19.510929",
     "exception": false,
     "start_time": "2023-06-14T09:45:19.484400",
     "status": "completed"
    },
    "tags": []
   },
   "outputs": [],
   "source": [
    "train[\"Power\"] = train[\"Torque Nm\"] * train[\"Rotational speed rpm\"]\n",
    "train[\"temp_ratio\"] = train[\"Process temperature K\"] / train[\"Air temperature K\"]\n",
    "\n",
    "# train['Power'] = train['Rotational speed rpm'] * train['Torque Nm']\n",
    "    \n",
    "# train['Temp_diff'] = train['Process temperature K'] - train['Air temperature K']  \n",
    "# train['Speed_to_Torque_ratio'] = train['Rotational speed rpm'] / train['Torque Nm']  \n",
    "# train['Temp_sum'] = train['Air temperature K'] + train['Process temperature K'] \n",
    "    "
   ]
  },
  {
   "cell_type": "code",
   "execution_count": 17,
   "id": "f2307515",
   "metadata": {
    "execution": {
     "iopub.execute_input": "2023-06-14T09:45:19.536267Z",
     "iopub.status.busy": "2023-06-14T09:45:19.535861Z",
     "iopub.status.idle": "2023-06-14T09:45:19.543753Z",
     "shell.execute_reply": "2023-06-14T09:45:19.542425Z"
    },
    "papermill": {
     "duration": 0.02316,
     "end_time": "2023-06-14T09:45:19.546214",
     "exception": false,
     "start_time": "2023-06-14T09:45:19.523054",
     "status": "completed"
    },
    "tags": []
   },
   "outputs": [
    {
     "data": {
      "text/plain": [
       "Index(['id', 'Product ID', 'Type', 'Air temperature K',\n",
       "       'Process temperature K', 'Rotational speed rpm', 'Torque Nm',\n",
       "       'Tool wear min', 'Machine failure', 'TWF', 'HDF', 'PWF', 'OSF', 'RNF',\n",
       "       'Power', 'temp_ratio'],\n",
       "      dtype='object')"
      ]
     },
     "execution_count": 17,
     "metadata": {},
     "output_type": "execute_result"
    }
   ],
   "source": [
    "train.columns"
   ]
  },
  {
   "cell_type": "code",
   "execution_count": 18,
   "id": "6948f4b3",
   "metadata": {
    "execution": {
     "iopub.execute_input": "2023-06-14T09:45:19.571846Z",
     "iopub.status.busy": "2023-06-14T09:45:19.570966Z",
     "iopub.status.idle": "2023-06-14T09:45:19.586934Z",
     "shell.execute_reply": "2023-06-14T09:45:19.585646Z"
    },
    "papermill": {
     "duration": 0.031832,
     "end_time": "2023-06-14T09:45:19.589716",
     "exception": false,
     "start_time": "2023-06-14T09:45:19.557884",
     "status": "completed"
    },
    "tags": []
   },
   "outputs": [],
   "source": [
    "y = train.pop(\"Machine failure\")\n",
    "X = train.drop([\"id\", \"Product ID\"], axis=1)\n",
    "#, \"RNF\", \"Type\""
   ]
  },
  {
   "cell_type": "code",
   "execution_count": 19,
   "id": "f2f01379",
   "metadata": {
    "execution": {
     "iopub.execute_input": "2023-06-14T09:45:19.614901Z",
     "iopub.status.busy": "2023-06-14T09:45:19.614475Z",
     "iopub.status.idle": "2023-06-14T09:45:19.659980Z",
     "shell.execute_reply": "2023-06-14T09:45:19.658899Z"
    },
    "papermill": {
     "duration": 0.061141,
     "end_time": "2023-06-14T09:45:19.662579",
     "exception": false,
     "start_time": "2023-06-14T09:45:19.601438",
     "status": "completed"
    },
    "tags": []
   },
   "outputs": [],
   "source": [
    "X_train, X_val, y_train, y_val = train_test_split(X, y, train_size = 0.8)"
   ]
  },
  {
   "cell_type": "code",
   "execution_count": 20,
   "id": "83b89b59",
   "metadata": {
    "execution": {
     "iopub.execute_input": "2023-06-14T09:45:19.688612Z",
     "iopub.status.busy": "2023-06-14T09:45:19.687991Z",
     "iopub.status.idle": "2023-06-14T09:45:19.697000Z",
     "shell.execute_reply": "2023-06-14T09:45:19.695404Z"
    },
    "papermill": {
     "duration": 0.024664,
     "end_time": "2023-06-14T09:45:19.699512",
     "exception": false,
     "start_time": "2023-06-14T09:45:19.674848",
     "status": "completed"
    },
    "tags": []
   },
   "outputs": [
    {
     "data": {
      "text/plain": [
       "((109143, 13), (27286, 13), (109143,), (27286,))"
      ]
     },
     "execution_count": 20,
     "metadata": {},
     "output_type": "execute_result"
    }
   ],
   "source": [
    "X_train.shape, X_val.shape, y_train.shape, y_val.shape"
   ]
  },
  {
   "cell_type": "code",
   "execution_count": 21,
   "id": "bb18ffd8",
   "metadata": {
    "execution": {
     "iopub.execute_input": "2023-06-14T09:45:19.725599Z",
     "iopub.status.busy": "2023-06-14T09:45:19.725136Z",
     "iopub.status.idle": "2023-06-14T09:45:19.934835Z",
     "shell.execute_reply": "2023-06-14T09:45:19.933566Z"
    },
    "papermill": {
     "duration": 0.225879,
     "end_time": "2023-06-14T09:45:19.937469",
     "exception": false,
     "start_time": "2023-06-14T09:45:19.711590",
     "status": "completed"
    },
    "tags": []
   },
   "outputs": [
    {
     "data": {
      "text/plain": [
       "(90954, 13)"
      ]
     },
     "execution_count": 21,
     "metadata": {},
     "output_type": "execute_result"
    }
   ],
   "source": [
    "test_df = pd.read_csv(\"/kaggle/input/playground-series-s3e17/test.csv\")\n",
    "test_df[categorical_cols] = encoder.transform(test_df[categorical_cols])\n",
    "test_df.columns = test_df.columns.str.replace('[\\[\\]]', '', regex=True)\n",
    "\n",
    "test_df[\"Power\"] = test_df[\"Torque Nm\"] * test_df[\"Rotational speed rpm\"]\n",
    "test_df[\"temp_ratio\"] = test_df[\"Process temperature K\"] / test_df[\"Air temperature K\"]\n",
    "\n",
    "# test_df['Temp_diff'] = test_df['Process temperature K'] - test_df['Air temperature K']  # Temperature difference\n",
    "# test_df['Speed_to_Torque_ratio'] = test_df['Rotational speed rpm'] / test_df['Torque Nm']  # Speed to torque ratio\n",
    "# test_df['Temp_sum'] = test_df['Air temperature K'] + test_df['Process temperature K']  # Temperature sum\n",
    "\n",
    "ids = test_df[\"id\"]\n",
    "test_X = test_df.drop([\"id\", \"Product ID\"], axis=1)\n",
    "\n",
    "test_X.shape"
   ]
  },
  {
   "cell_type": "code",
   "execution_count": 22,
   "id": "393ecc2e",
   "metadata": {
    "execution": {
     "iopub.execute_input": "2023-06-14T09:45:19.966350Z",
     "iopub.status.busy": "2023-06-14T09:45:19.965817Z",
     "iopub.status.idle": "2023-06-14T09:45:19.971683Z",
     "shell.execute_reply": "2023-06-14T09:45:19.970489Z"
    },
    "papermill": {
     "duration": 0.02412,
     "end_time": "2023-06-14T09:45:19.974042",
     "exception": false,
     "start_time": "2023-06-14T09:45:19.949922",
     "status": "completed"
    },
    "tags": []
   },
   "outputs": [],
   "source": [
    "# from sklearn.ensemble import RandomForestClassifier\n",
    "\n",
    "# # Create a RandomForestClassifier object\n",
    "# rf = RandomForestClassifier()\n",
    "\n",
    "# # Fit the classifier to your training data\n",
    "# rf.fit(X_train, y_train)\n",
    "\n",
    "# # Get the feature importances\n",
    "# feature_importances = rf.feature_importances_\n",
    "\n",
    "# # Create a DataFrame with the feature names and their importance scores\n",
    "# feature_importance_df = pd.DataFrame({'Feature': X_train.columns, 'Importance': feature_importances})\n",
    "\n",
    "# # Sort the DataFrame by importance scores in descending order\n",
    "# feature_importance_df = feature_importance_df.sort_values(by='Importance', ascending=False)\n",
    "\n",
    "# # Print the top features\n",
    "# print(feature_importance_df.head())"
   ]
  },
  {
   "cell_type": "code",
   "execution_count": 23,
   "id": "6edf25c3",
   "metadata": {
    "execution": {
     "iopub.execute_input": "2023-06-14T09:45:20.000161Z",
     "iopub.status.busy": "2023-06-14T09:45:19.999683Z",
     "iopub.status.idle": "2023-06-14T09:45:20.005065Z",
     "shell.execute_reply": "2023-06-14T09:45:20.003885Z"
    },
    "papermill": {
     "duration": 0.021396,
     "end_time": "2023-06-14T09:45:20.007476",
     "exception": false,
     "start_time": "2023-06-14T09:45:19.986080",
     "status": "completed"
    },
    "tags": []
   },
   "outputs": [],
   "source": [
    "# import matplotlib.pyplot as plt\n",
    "\n",
    "# # Plotting the feature importances\n",
    "# plt.figure(figsize=(10, 6))\n",
    "# plt.barh(feature_importance_df['Feature'], feature_importance_df['Importance'])\n",
    "# plt.xlabel('Importance')\n",
    "# plt.ylabel('Feature')\n",
    "# plt.title('Feature Importances')\n",
    "\n",
    "# plt.show()"
   ]
  },
  {
   "cell_type": "code",
   "execution_count": 24,
   "id": "d7255550",
   "metadata": {
    "execution": {
     "iopub.execute_input": "2023-06-14T09:45:20.033049Z",
     "iopub.status.busy": "2023-06-14T09:45:20.032605Z",
     "iopub.status.idle": "2023-06-14T09:45:20.037728Z",
     "shell.execute_reply": "2023-06-14T09:45:20.036737Z"
    },
    "papermill": {
     "duration": 0.020753,
     "end_time": "2023-06-14T09:45:20.040042",
     "exception": false,
     "start_time": "2023-06-14T09:45:20.019289",
     "status": "completed"
    },
    "tags": []
   },
   "outputs": [],
   "source": [
    "# lgbm = LGBMClassifier(n_estimators=1000, learning_rate=0.01)\n",
    "# lgbm.fit(X_train, y_train, early_stopping_rounds=25, eval_set=[(X_val, y_val)], verbose=100)\n",
    "\n",
    "\n",
    "# preds = lgbm.predict_proba(test_X)\n",
    "# predicted_prob = [pred[1] for pred in preds]\n",
    "# print(predicted_prob[:5])\n",
    "\n",
    "# print('Train score:', lgbm.score(X_train, y_train))\n",
    "# print('Validation score:', lgbm.score(X_val, y_val))"
   ]
  },
  {
   "cell_type": "code",
   "execution_count": null,
   "id": "473c63ad",
   "metadata": {
    "papermill": {
     "duration": 0.012041,
     "end_time": "2023-06-14T09:45:20.064159",
     "exception": false,
     "start_time": "2023-06-14T09:45:20.052118",
     "status": "completed"
    },
    "tags": []
   },
   "outputs": [],
   "source": []
  },
  {
   "cell_type": "code",
   "execution_count": 25,
   "id": "a368e268",
   "metadata": {
    "execution": {
     "iopub.execute_input": "2023-06-14T09:45:20.091576Z",
     "iopub.status.busy": "2023-06-14T09:45:20.091127Z",
     "iopub.status.idle": "2023-06-14T09:45:20.096897Z",
     "shell.execute_reply": "2023-06-14T09:45:20.095677Z"
    },
    "papermill": {
     "duration": 0.023082,
     "end_time": "2023-06-14T09:45:20.099330",
     "exception": false,
     "start_time": "2023-06-14T09:45:20.076248",
     "status": "completed"
    },
    "tags": []
   },
   "outputs": [],
   "source": [
    "# from sklearn.model_selection import RandomizedSearchCV\n",
    "# from xgboost import XGBClassifier\n",
    "\n",
    "# param_dist = {\n",
    "#     'max_depth': [3, 5, 7],\n",
    "#     'learning_rate': [0.01, 0.1, 0.2],\n",
    "#     'n_estimators': [100, 500, 1000],\n",
    "#     'subsample': [0.8, 1.0],\n",
    "#     'colsample_bytree': [0.8, 1.0],\n",
    "#     'reg_alpha': [0, 0.1, 0.5]\n",
    "# }\n",
    "\n",
    "# xgb = XGBClassifier()\n",
    "\n",
    "# random_search = RandomizedSearchCV(estimator=xgb, param_distributions=param_dist, cv=3, scoring='accuracy', n_iter=10)\n",
    "# random_search.fit(X_train, y_train)\n",
    "\n",
    "# best_params = random_search.best_params_\n",
    "# print(\"Best Hyperparameters:\", best_params)\n",
    "\n",
    "# best_xgb = XGBClassifier(**best_params)\n",
    "# best_xgb.fit(X_train, y_train)\n",
    "\n",
    "# train_score = best_xgb.score(X_train, y_train)\n",
    "# val_score = best_xgb.score(X_val, y_val)\n",
    "# print(\"Train score:\", train_score)\n",
    "# print(\"Validation score:\", val_score)\n"
   ]
  },
  {
   "cell_type": "code",
   "execution_count": 26,
   "id": "f3efb3c2",
   "metadata": {
    "execution": {
     "iopub.execute_input": "2023-06-14T09:45:20.125152Z",
     "iopub.status.busy": "2023-06-14T09:45:20.124724Z",
     "iopub.status.idle": "2023-06-14T09:45:58.672459Z",
     "shell.execute_reply": "2023-06-14T09:45:58.671451Z"
    },
    "papermill": {
     "duration": 38.563688,
     "end_time": "2023-06-14T09:45:58.674986",
     "exception": false,
     "start_time": "2023-06-14T09:45:20.111298",
     "status": "completed"
    },
    "tags": []
   },
   "outputs": [
    {
     "name": "stdout",
     "output_type": "stream",
     "text": [
      "[0.0048543094, 0.0048241876, 0.004780299, 0.0053948537, 0.0048796255]\n",
      "Train score: 0.9963075964560256\n",
      "Validation score: 0.996518361064282\n"
     ]
    }
   ],
   "source": [
    "best_params = {'subsample': 0.8, 'reg_alpha': 0.5, 'n_estimators': 500, 'max_depth': 7, 'learning_rate': 0.01, 'colsample_bytree': 0.8}\n",
    "\n",
    "xgb = XGBClassifier(**best_params)\n",
    "xgb.fit(X_train, y_train)\n",
    "\n",
    "preds = xgb.predict_proba(test_X)\n",
    "predicted_prob = [pred[1] for pred in preds]\n",
    "print(predicted_prob[:5])\n",
    "\n",
    "train_score = xgb.score(X_train, y_train)\n",
    "val_score = xgb.score(X_val, y_val)\n",
    "\n",
    "print(\"Train score:\", train_score)\n",
    "print(\"Validation score:\", val_score)\n"
   ]
  },
  {
   "cell_type": "code",
   "execution_count": 27,
   "id": "966429a9",
   "metadata": {
    "execution": {
     "iopub.execute_input": "2023-06-14T09:45:58.704141Z",
     "iopub.status.busy": "2023-06-14T09:45:58.703707Z",
     "iopub.status.idle": "2023-06-14T09:45:59.281675Z",
     "shell.execute_reply": "2023-06-14T09:45:59.280326Z"
    },
    "papermill": {
     "duration": 0.595324,
     "end_time": "2023-06-14T09:45:59.284814",
     "exception": false,
     "start_time": "2023-06-14T09:45:58.689490",
     "status": "completed"
    },
    "tags": []
   },
   "outputs": [
    {
     "data": {
      "image/png": "[encoded data removed]",
      "text/plain": [
       "<Figure size 640x480 with 1 Axes>"
      ]
     },
     "metadata": {},
     "output_type": "display_data"
    }
   ],
   "source": [
    "preds = xgb.predict_proba(X_val)\n",
    "predicted_prob = [pred[1] for pred in preds]\n",
    "\n",
    "fpr, tpr, thresholds = roc_curve(y_val, predicted_prob)\n",
    "\n",
    "plt.plot(fpr, tpr, label='ROC Curve')\n",
    "plt.plot([0, 1], [0, 1], 'k--', label='Random Guessing')\n",
    "plt.xlabel('False Positive Rate')\n",
    "plt.ylabel('True Positive Rate')\n",
    "plt.title('Receiver Operating Characteristic (ROC) Curve')\n",
    "plt.legend(loc='lower right')\n",
    "plt.show()\n",
    "\n",
    "# # Calculate the confusion matrix\n",
    "# predicted_labels = (predicted_prob >= 0.5).astype(int)  # Thresholding at 0.5\n",
    "# confusion_mat = confusion_matrix(y_val, predicted_labels)\n",
    "\n",
    "# print(\"Confusion Matrix:\")\n",
    "# print(confusion_mat)"
   ]
  },
  {
   "cell_type": "code",
   "execution_count": 28,
   "id": "9aade964",
   "metadata": {
    "execution": {
     "iopub.execute_input": "2023-06-14T09:45:59.316286Z",
     "iopub.status.busy": "2023-06-14T09:45:59.315724Z",
     "iopub.status.idle": "2023-06-14T09:45:59.321957Z",
     "shell.execute_reply": "2023-06-14T09:45:59.320479Z"
    },
    "papermill": {
     "duration": 0.025015,
     "end_time": "2023-06-14T09:45:59.324579",
     "exception": false,
     "start_time": "2023-06-14T09:45:59.299564",
     "status": "completed"
    },
    "tags": []
   },
   "outputs": [],
   "source": [
    "# submission_df = pd.DataFrame({\n",
    "# \"id\" : ids,\n",
    "# \"Machine failure\": predicted_prob   \n",
    "# })\n",
    "# submission_df.shape"
   ]
  },
  {
   "cell_type": "code",
   "execution_count": 29,
   "id": "0962f50f",
   "metadata": {
    "execution": {
     "iopub.execute_input": "2023-06-14T09:45:59.354254Z",
     "iopub.status.busy": "2023-06-14T09:45:59.353841Z",
     "iopub.status.idle": "2023-06-14T09:45:59.359134Z",
     "shell.execute_reply": "2023-06-14T09:45:59.357890Z"
    },
    "papermill": {
     "duration": 0.022969,
     "end_time": "2023-06-14T09:45:59.361757",
     "exception": false,
     "start_time": "2023-06-14T09:45:59.338788",
     "status": "completed"
    },
    "tags": []
   },
   "outputs": [],
   "source": [
    "#submission_df.to_csv(\"submission8.csv\", index=False)"
   ]
  },
  {
   "cell_type": "code",
   "execution_count": 30,
   "id": "ab8a738c",
   "metadata": {
    "execution": {
     "iopub.execute_input": "2023-06-14T09:45:59.389962Z",
     "iopub.status.busy": "2023-06-14T09:45:59.389564Z",
     "iopub.status.idle": "2023-06-14T09:45:59.393975Z",
     "shell.execute_reply": "2023-06-14T09:45:59.393004Z"
    },
    "papermill": {
     "duration": 0.021614,
     "end_time": "2023-06-14T09:45:59.396204",
     "exception": false,
     "start_time": "2023-06-14T09:45:59.374590",
     "status": "completed"
    },
    "tags": []
   },
   "outputs": [],
   "source": [
    "# from catboost import CatBoostClassifier\n",
    "\n",
    "# catboost = CatBoostClassifier(n_estimators=1000, learning_rate=0.01)\n",
    "# catboost.fit(X_train, y_train, early_stopping_rounds=20, eval_set=[(X_val, y_val)], verbose=100)\n",
    "\n",
    "# preds = catboost.predict_proba(test_X)\n",
    "# predicted_prob = [pred[1] for pred in preds]\n",
    "# print(predicted_prob[:5])\n",
    "\n",
    "# print('Train score:', lgbm.score(X_train, y_train))\n",
    "# print('Validation score:', lgbm.score(X_val, y_val))"
   ]
  },
  {
   "cell_type": "code",
   "execution_count": 31,
   "id": "14515620",
   "metadata": {
    "execution": {
     "iopub.execute_input": "2023-06-14T09:45:59.425315Z",
     "iopub.status.busy": "2023-06-14T09:45:59.424147Z",
     "iopub.status.idle": "2023-06-14T09:45:59.429080Z",
     "shell.execute_reply": "2023-06-14T09:45:59.428223Z"
    },
    "papermill": {
     "duration": 0.021478,
     "end_time": "2023-06-14T09:45:59.431539",
     "exception": false,
     "start_time": "2023-06-14T09:45:59.410061",
     "status": "completed"
    },
    "tags": []
   },
   "outputs": [],
   "source": [
    "# from sklearn.ensemble import RandomForestClassifier\n",
    "\n",
    "# rf = RandomForestClassifier(n_estimators=1000)\n",
    "# rf.fit(X_train, y_train)\n",
    "\n",
    "# preds = rf.predict_proba(test_X)\n",
    "# predicted_prob = [pred[1] for pred in preds]\n",
    "# print(predicted_prob[:5])\n",
    "\n",
    "# print('Train score:', lgbm.score(X_train, y_train))\n",
    "# print('Validation score:', lgbm.score(X_val, y_val))"
   ]
  },
  {
   "cell_type": "code",
   "execution_count": 32,
   "id": "88d6d7d3",
   "metadata": {
    "execution": {
     "iopub.execute_input": "2023-06-14T09:45:59.460827Z",
     "iopub.status.busy": "2023-06-14T09:45:59.460395Z",
     "iopub.status.idle": "2023-06-14T09:45:59.465849Z",
     "shell.execute_reply": "2023-06-14T09:45:59.464240Z"
    },
    "papermill": {
     "duration": 0.023288,
     "end_time": "2023-06-14T09:45:59.468331",
     "exception": false,
     "start_time": "2023-06-14T09:45:59.445043",
     "status": "completed"
    },
    "tags": []
   },
   "outputs": [],
   "source": [
    "# from sklearn.ensemble import GradientBoostingClassifier\n",
    "\n",
    "# gb = GradientBoostingClassifier(n_estimators=1000, learning_rate=0.01)\n",
    "# gb.fit(X_train, y_train)\n",
    "\n",
    "# preds = gb.predict_proba(test_X)\n",
    "# predicted_prob = [pred[1] for pred in preds]\n",
    "# print(predicted_prob[:5])\n",
    "\n",
    "# print('Train score:', lgbm.score(X_train, y_train))\n",
    "# print('Validation score:', lgbm.score(X_val, y_val))"
   ]
  },
  {
   "cell_type": "code",
   "execution_count": 33,
   "id": "d634fb16",
   "metadata": {
    "execution": {
     "iopub.execute_input": "2023-06-14T09:45:59.497512Z",
     "iopub.status.busy": "2023-06-14T09:45:59.497045Z",
     "iopub.status.idle": "2023-06-14T09:45:59.502378Z",
     "shell.execute_reply": "2023-06-14T09:45:59.501190Z"
    },
    "papermill": {
     "duration": 0.022432,
     "end_time": "2023-06-14T09:45:59.504619",
     "exception": false,
     "start_time": "2023-06-14T09:45:59.482187",
     "status": "completed"
    },
    "tags": []
   },
   "outputs": [],
   "source": [
    "# test_df = pd.read_csv(\"/kaggle/input/playground-series-s3e17/test.csv\")\n",
    "# test_df[categorical_cols] = encoder.transform(test_df[categorical_cols])\n",
    "# test_df.columns = test_df.columns.str.replace('[\\[\\]]', '', regex=True)\n",
    "# test_df[\"Power\"] = test_df[\"Torque Nm\"] * test_df[\"Rotational speed rpm\"]\n",
    "# test_df[\"temp_ratio\"] = test_df[\"Process temperature K\"] / test_df[\"Air temperature K\"]\n",
    "\n",
    "# ids = test_df[\"id\"]\n",
    "# test_X = test_df.drop([\"id\", \"Product ID\"], axis=1)"
   ]
  }
 ],
 "metadata": {
  "kernelspec": {
   "display_name": "Python 3",
   "language": "python",
   "name": "python3"
  },
  "language_info": {
   "codemirror_mode": {
    "name": "ipython",
    "version": 3
   },
   "file_extension": ".py",
   "mimetype": "text/x-python",
   "name": "python",
   "nbconvert_exporter": "python",
   "pygments_lexer": "ipython3",
   "version": "3.10.10"
  },
  "papermill": {
   "default_parameters": {},
   "duration": 62.661112,
   "end_time": "2023-06-14T09:46:00.843897",
   "environment_variables": {},
   "exception": null,
   "input_path": "__notebook__.ipynb",
   "output_path": "__notebook__.ipynb",
   "parameters": {},
   "start_time": "2023-06-14T09:44:58.182785",
   "version": "2.4.0"
  }
 },
 "nbformat": 4,
 "nbformat_minor": 5
}
