{
 "cells": [
  {
   "cell_type": "code",
   "execution_count": 1,
   "id": "8730009b",
   "metadata": {
    "_cell_guid": "b1076dfc-b9ad-4769-8c92-a6c4dae69d19",
    "_uuid": "8f2839f25d086af736a60e9eeb907d3b93b6e0e5",
    "execution": {
     "iopub.execute_input": "2023-05-07T12:29:07.472115Z",
     "iopub.status.busy": "2023-05-07T12:29:07.471687Z",
     "iopub.status.idle": "2023-05-07T12:29:07.489235Z",
     "shell.execute_reply": "2023-05-07T12:29:07.487349Z"
    },
    "papermill": {
     "duration": 0.027302,
     "end_time": "2023-05-07T12:29:07.493267",
     "exception": false,
     "start_time": "2023-05-07T12:29:07.465965",
     "status": "completed"
    },
    "tags": []
   },
   "outputs": [
    {
     "name": "stdout",
     "output_type": "stream",
     "text": [
      "/kaggle/input/survey-of-labour-and-income-dynamics/SLID.csv\n"
     ]
    }
   ],
   "source": [
    "# This Python 3 environment comes with many helpful analytics libraries installed\n",
    "# It is defined by the kaggle/python Docker image: https://github.com/kaggle/docker-python\n",
    "# For example, here's several helpful packages to load\n",
    "\n",
    "import numpy as np # linear algebra\n",
    "import pandas as pd # data processing, CSV file I/O (e.g. pd.read_csv)\n",
    "\n",
    "# Input data files are available in the read-only \"../input/\" directory\n",
    "# For example, running this (by clicking run or pressing Shift+Enter) will list all files under the input directory\n",
    "\n",
    "import os\n",
    "for dirname, _, filenames in os.walk('/kaggle/input'):\n",
    "    for filename in filenames:\n",
    "        print(os.path.join(dirname, filename))\n",
    "\n",
    "# You can write up to 20GB to the current directory (/kaggle/working/) that gets preserved as output when you create a version using \"Save & Run All\" \n",
    "# You can also write temporary files to /kaggle/temp/, but they won't be saved outside of the current session"
   ]
  },
  {
   "cell_type": "code",
   "execution_count": 2,
   "id": "f0c8f937",
   "metadata": {
    "execution": {
     "iopub.execute_input": "2023-05-07T12:29:07.503801Z",
     "iopub.status.busy": "2023-05-07T12:29:07.503379Z",
     "iopub.status.idle": "2023-05-07T12:29:09.195790Z",
     "shell.execute_reply": "2023-05-07T12:29:09.194820Z"
    },
    "papermill": {
     "duration": 1.700487,
     "end_time": "2023-05-07T12:29:09.198375",
     "exception": false,
     "start_time": "2023-05-07T12:29:07.497888",
     "status": "completed"
    },
    "tags": []
   },
   "outputs": [
    {
     "name": "stderr",
     "output_type": "stream",
     "text": [
      "/opt/conda/lib/python3.10/site-packages/scipy/__init__.py:146: UserWarning: A NumPy version >=1.16.5 and <1.23.0 is required for this version of SciPy (detected version 1.23.5\n",
      "  warnings.warn(f\"A NumPy version >={np_minversion} and <{np_maxversion}\"\n"
     ]
    }
   ],
   "source": [
    "from sklearn.model_selection import train_test_split\n",
    "from sklearn.ensemble import RandomForestRegressor\n",
    "from sklearn.metrics import mean_squared_error, r2_score"
   ]
  },
  {
   "cell_type": "code",
   "execution_count": 3,
   "id": "805246a4",
   "metadata": {
    "execution": {
     "iopub.execute_input": "2023-05-07T12:29:09.207868Z",
     "iopub.status.busy": "2023-05-07T12:29:09.207428Z",
     "iopub.status.idle": "2023-05-07T12:29:09.268139Z",
     "shell.execute_reply": "2023-05-07T12:29:09.267089Z"
    },
    "papermill": {
     "duration": 0.068299,
     "end_time": "2023-05-07T12:29:09.270565",
     "exception": false,
     "start_time": "2023-05-07T12:29:09.202266",
     "status": "completed"
    },
    "tags": []
   },
   "outputs": [
    {
     "data": {
      "text/html": [
       "<div>\n",
       "<style scoped>\n",
       "    .dataframe tbody tr th:only-of-type {\n",
       "        vertical-align: middle;\n",
       "    }\n",
       "\n",
       "    .dataframe tbody tr th {\n",
       "        vertical-align: top;\n",
       "    }\n",
       "\n",
       "    .dataframe thead th {\n",
       "        text-align: right;\n",
       "    }\n",
       "</style>\n",
       "<table border=\"1\" class=\"dataframe\">\n",
       "  <thead>\n",
       "    <tr style=\"text-align: right;\">\n",
       "      <th></th>\n",
       "      <th>Unnamed: 0</th>\n",
       "      <th>wages</th>\n",
       "      <th>education</th>\n",
       "      <th>age</th>\n",
       "      <th>sex</th>\n",
       "      <th>language</th>\n",
       "    </tr>\n",
       "  </thead>\n",
       "  <tbody>\n",
       "    <tr>\n",
       "      <th>0</th>\n",
       "      <td>1</td>\n",
       "      <td>10.56</td>\n",
       "      <td>15.0</td>\n",
       "      <td>40</td>\n",
       "      <td>Male</td>\n",
       "      <td>English</td>\n",
       "    </tr>\n",
       "    <tr>\n",
       "      <th>1</th>\n",
       "      <td>2</td>\n",
       "      <td>11.00</td>\n",
       "      <td>13.2</td>\n",
       "      <td>19</td>\n",
       "      <td>Male</td>\n",
       "      <td>English</td>\n",
       "    </tr>\n",
       "    <tr>\n",
       "      <th>2</th>\n",
       "      <td>3</td>\n",
       "      <td>NaN</td>\n",
       "      <td>16.0</td>\n",
       "      <td>49</td>\n",
       "      <td>Male</td>\n",
       "      <td>Other</td>\n",
       "    </tr>\n",
       "    <tr>\n",
       "      <th>3</th>\n",
       "      <td>4</td>\n",
       "      <td>17.76</td>\n",
       "      <td>14.0</td>\n",
       "      <td>46</td>\n",
       "      <td>Male</td>\n",
       "      <td>Other</td>\n",
       "    </tr>\n",
       "    <tr>\n",
       "      <th>4</th>\n",
       "      <td>5</td>\n",
       "      <td>NaN</td>\n",
       "      <td>8.0</td>\n",
       "      <td>71</td>\n",
       "      <td>Male</td>\n",
       "      <td>English</td>\n",
       "    </tr>\n",
       "  </tbody>\n",
       "</table>\n",
       "</div>"
      ],
      "text/plain": [
       "   Unnamed: 0  wages  education  age   sex language\n",
       "0           1  10.56       15.0   40  Male  English\n",
       "1           2  11.00       13.2   19  Male  English\n",
       "2           3    NaN       16.0   49  Male    Other\n",
       "3           4  17.76       14.0   46  Male    Other\n",
       "4           5    NaN        8.0   71  Male  English"
      ]
     },
     "execution_count": 3,
     "metadata": {},
     "output_type": "execute_result"
    }
   ],
   "source": [
    "df = pd.read_csv('/kaggle/input/survey-of-labour-and-income-dynamics/SLID.csv')\n",
    "df.head()"
   ]
  },
  {
   "cell_type": "code",
   "execution_count": 4,
   "id": "72721eb5",
   "metadata": {
    "execution": {
     "iopub.execute_input": "2023-05-07T12:29:09.281028Z",
     "iopub.status.busy": "2023-05-07T12:29:09.280333Z",
     "iopub.status.idle": "2023-05-07T12:29:09.309535Z",
     "shell.execute_reply": "2023-05-07T12:29:09.308382Z"
    },
    "papermill": {
     "duration": 0.037227,
     "end_time": "2023-05-07T12:29:09.312038",
     "exception": false,
     "start_time": "2023-05-07T12:29:09.274811",
     "status": "completed"
    },
    "tags": []
   },
   "outputs": [
    {
     "data": {
      "text/html": [
       "<div>\n",
       "<style scoped>\n",
       "    .dataframe tbody tr th:only-of-type {\n",
       "        vertical-align: middle;\n",
       "    }\n",
       "\n",
       "    .dataframe tbody tr th {\n",
       "        vertical-align: top;\n",
       "    }\n",
       "\n",
       "    .dataframe thead th {\n",
       "        text-align: right;\n",
       "    }\n",
       "</style>\n",
       "<table border=\"1\" class=\"dataframe\">\n",
       "  <thead>\n",
       "    <tr style=\"text-align: right;\">\n",
       "      <th></th>\n",
       "      <th>Unnamed: 0</th>\n",
       "      <th>wages</th>\n",
       "      <th>education</th>\n",
       "      <th>age</th>\n",
       "    </tr>\n",
       "  </thead>\n",
       "  <tbody>\n",
       "    <tr>\n",
       "      <th>count</th>\n",
       "      <td>7425.000000</td>\n",
       "      <td>4147.000000</td>\n",
       "      <td>7176.000000</td>\n",
       "      <td>7425.000000</td>\n",
       "    </tr>\n",
       "    <tr>\n",
       "      <th>mean</th>\n",
       "      <td>3713.000000</td>\n",
       "      <td>15.553082</td>\n",
       "      <td>12.496084</td>\n",
       "      <td>43.982761</td>\n",
       "    </tr>\n",
       "    <tr>\n",
       "      <th>std</th>\n",
       "      <td>2143.557207</td>\n",
       "      <td>7.883066</td>\n",
       "      <td>3.362506</td>\n",
       "      <td>17.694554</td>\n",
       "    </tr>\n",
       "    <tr>\n",
       "      <th>min</th>\n",
       "      <td>1.000000</td>\n",
       "      <td>2.300000</td>\n",
       "      <td>0.000000</td>\n",
       "      <td>16.000000</td>\n",
       "    </tr>\n",
       "    <tr>\n",
       "      <th>25%</th>\n",
       "      <td>1857.000000</td>\n",
       "      <td>9.235000</td>\n",
       "      <td>10.300000</td>\n",
       "      <td>30.000000</td>\n",
       "    </tr>\n",
       "    <tr>\n",
       "      <th>50%</th>\n",
       "      <td>3713.000000</td>\n",
       "      <td>14.090000</td>\n",
       "      <td>12.100000</td>\n",
       "      <td>41.000000</td>\n",
       "    </tr>\n",
       "    <tr>\n",
       "      <th>75%</th>\n",
       "      <td>5569.000000</td>\n",
       "      <td>19.800000</td>\n",
       "      <td>14.525000</td>\n",
       "      <td>57.000000</td>\n",
       "    </tr>\n",
       "    <tr>\n",
       "      <th>max</th>\n",
       "      <td>7425.000000</td>\n",
       "      <td>49.920000</td>\n",
       "      <td>20.000000</td>\n",
       "      <td>95.000000</td>\n",
       "    </tr>\n",
       "  </tbody>\n",
       "</table>\n",
       "</div>"
      ],
      "text/plain": [
       "        Unnamed: 0        wages    education          age\n",
       "count  7425.000000  4147.000000  7176.000000  7425.000000\n",
       "mean   3713.000000    15.553082    12.496084    43.982761\n",
       "std    2143.557207     7.883066     3.362506    17.694554\n",
       "min       1.000000     2.300000     0.000000    16.000000\n",
       "25%    1857.000000     9.235000    10.300000    30.000000\n",
       "50%    3713.000000    14.090000    12.100000    41.000000\n",
       "75%    5569.000000    19.800000    14.525000    57.000000\n",
       "max    7425.000000    49.920000    20.000000    95.000000"
      ]
     },
     "execution_count": 4,
     "metadata": {},
     "output_type": "execute_result"
    }
   ],
   "source": [
    "df.describe()"
   ]
  },
  {
   "cell_type": "code",
   "execution_count": 5,
   "id": "ec1e26f3",
   "metadata": {
    "execution": {
     "iopub.execute_input": "2023-05-07T12:29:09.322671Z",
     "iopub.status.busy": "2023-05-07T12:29:09.322050Z",
     "iopub.status.idle": "2023-05-07T12:29:09.333846Z",
     "shell.execute_reply": "2023-05-07T12:29:09.332710Z"
    },
    "papermill": {
     "duration": 0.019947,
     "end_time": "2023-05-07T12:29:09.336234",
     "exception": false,
     "start_time": "2023-05-07T12:29:09.316287",
     "status": "completed"
    },
    "tags": []
   },
   "outputs": [
    {
     "data": {
      "text/plain": [
       "Unnamed: 0       0\n",
       "wages         3278\n",
       "education      249\n",
       "age              0\n",
       "sex              0\n",
       "language       121\n",
       "dtype: int64"
      ]
     },
     "execution_count": 5,
     "metadata": {},
     "output_type": "execute_result"
    }
   ],
   "source": [
    "df.isnull().sum()"
   ]
  },
  {
   "cell_type": "code",
   "execution_count": 6,
   "id": "0cdd9ef3",
   "metadata": {
    "execution": {
     "iopub.execute_input": "2023-05-07T12:29:09.347644Z",
     "iopub.status.busy": "2023-05-07T12:29:09.347019Z",
     "iopub.status.idle": "2023-05-07T12:29:09.378618Z",
     "shell.execute_reply": "2023-05-07T12:29:09.377365Z"
    },
    "papermill": {
     "duration": 0.040406,
     "end_time": "2023-05-07T12:29:09.381366",
     "exception": false,
     "start_time": "2023-05-07T12:29:09.340960",
     "status": "completed"
    },
    "tags": []
   },
   "outputs": [],
   "source": [
    "df['wages'].fillna(df['wages'].median(), inplace=True)\n",
    "df['education'].fillna(df['education'].median(), inplace=True)\n",
    "df['language'].fillna(df['language'].mode()[0], inplace=True)\n",
    "\n",
    "\n",
    "df['sex'] = df['sex'].map({'Male': 1, 'Female': 0})\n",
    "df = pd.get_dummies(df, columns=['language'])\n",
    "\n",
    "\n",
    "df.drop('Unnamed: 0', axis=1, inplace=True)\n",
    "\n"
   ]
  },
  {
   "cell_type": "code",
   "execution_count": 7,
   "id": "0aa7b4b7",
   "metadata": {
    "execution": {
     "iopub.execute_input": "2023-05-07T12:29:09.392565Z",
     "iopub.status.busy": "2023-05-07T12:29:09.391798Z",
     "iopub.status.idle": "2023-05-07T12:29:09.401901Z",
     "shell.execute_reply": "2023-05-07T12:29:09.400089Z"
    },
    "papermill": {
     "duration": 0.01858,
     "end_time": "2023-05-07T12:29:09.404747",
     "exception": false,
     "start_time": "2023-05-07T12:29:09.386167",
     "status": "completed"
    },
    "tags": []
   },
   "outputs": [],
   "source": [
    "X = df.drop('wages', axis=1)\n",
    "y = df['wages']\n",
    "X_train, X_test, y_train, y_test = train_test_split(X, y, test_size=0.2, random_state=42)"
   ]
  },
  {
   "cell_type": "code",
   "execution_count": 8,
   "id": "3046cc49",
   "metadata": {
    "execution": {
     "iopub.execute_input": "2023-05-07T12:29:09.417214Z",
     "iopub.status.busy": "2023-05-07T12:29:09.416785Z",
     "iopub.status.idle": "2023-05-07T12:29:10.509722Z",
     "shell.execute_reply": "2023-05-07T12:29:10.508778Z"
    },
    "papermill": {
     "duration": 1.10132,
     "end_time": "2023-05-07T12:29:10.512038",
     "exception": false,
     "start_time": "2023-05-07T12:29:09.410718",
     "status": "completed"
    },
    "tags": []
   },
   "outputs": [
    {
     "data": {
      "text/html": [
       "<style>#sk-container-id-1 {color: black;background-color: white;}#sk-container-id-1 pre{padding: 0;}#sk-container-id-1 div.sk-toggleable {background-color: white;}#sk-container-id-1 label.sk-toggleable__label {cursor: pointer;display: block;width: 100%;margin-bottom: 0;padding: 0.3em;box-sizing: border-box;text-align: center;}#sk-container-id-1 label.sk-toggleable__label-arrow:before {content: \"▸\";float: left;margin-right: 0.25em;color: #696969;}#sk-container-id-1 label.sk-toggleable__label-arrow:hover:before {color: black;}#sk-container-id-1 div.sk-estimator:hover label.sk-toggleable__label-arrow:before {color: black;}#sk-container-id-1 div.sk-toggleable__content {max-height: 0;max-width: 0;overflow: hidden;text-align: left;background-color: #f0f8ff;}#sk-container-id-1 div.sk-toggleable__content pre {margin: 0.2em;color: black;border-radius: 0.25em;background-color: #f0f8ff;}#sk-container-id-1 input.sk-toggleable__control:checked~div.sk-toggleable__content {max-height: 200px;max-width: 100%;overflow: auto;}#sk-container-id-1 input.sk-toggleable__control:checked~label.sk-toggleable__label-arrow:before {content: \"▾\";}#sk-container-id-1 div.sk-estimator input.sk-toggleable__control:checked~label.sk-toggleable__label {background-color: #d4ebff;}#sk-container-id-1 div.sk-label input.sk-toggleable__control:checked~label.sk-toggleable__label {background-color: #d4ebff;}#sk-container-id-1 input.sk-hidden--visually {border: 0;clip: rect(1px 1px 1px 1px);clip: rect(1px, 1px, 1px, 1px);height: 1px;margin: -1px;overflow: hidden;padding: 0;position: absolute;width: 1px;}#sk-container-id-1 div.sk-estimator {font-family: monospace;background-color: #f0f8ff;border: 1px dotted black;border-radius: 0.25em;box-sizing: border-box;margin-bottom: 0.5em;}#sk-container-id-1 div.sk-estimator:hover {background-color: #d4ebff;}#sk-container-id-1 div.sk-parallel-item::after {content: \"\";width: 100%;border-bottom: 1px solid gray;flex-grow: 1;}#sk-container-id-1 div.sk-label:hover label.sk-toggleable__label {background-color: #d4ebff;}#sk-container-id-1 div.sk-serial::before {content: \"\";position: absolute;border-left: 1px solid gray;box-sizing: border-box;top: 0;bottom: 0;left: 50%;z-index: 0;}#sk-container-id-1 div.sk-serial {display: flex;flex-direction: column;align-items: center;background-color: white;padding-right: 0.2em;padding-left: 0.2em;position: relative;}#sk-container-id-1 div.sk-item {position: relative;z-index: 1;}#sk-container-id-1 div.sk-parallel {display: flex;align-items: stretch;justify-content: center;background-color: white;position: relative;}#sk-container-id-1 div.sk-item::before, #sk-container-id-1 div.sk-parallel-item::before {content: \"\";position: absolute;border-left: 1px solid gray;box-sizing: border-box;top: 0;bottom: 0;left: 50%;z-index: -1;}#sk-container-id-1 div.sk-parallel-item {display: flex;flex-direction: column;z-index: 1;position: relative;background-color: white;}#sk-container-id-1 div.sk-parallel-item:first-child::after {align-self: flex-end;width: 50%;}#sk-container-id-1 div.sk-parallel-item:last-child::after {align-self: flex-start;width: 50%;}#sk-container-id-1 div.sk-parallel-item:only-child::after {width: 0;}#sk-container-id-1 div.sk-dashed-wrapped {border: 1px dashed gray;margin: 0 0.4em 0.5em 0.4em;box-sizing: border-box;padding-bottom: 0.4em;background-color: white;}#sk-container-id-1 div.sk-label label {font-family: monospace;font-weight: bold;display: inline-block;line-height: 1.2em;}#sk-container-id-1 div.sk-label-container {text-align: center;}#sk-container-id-1 div.sk-container {/* jupyter's `normalize.less` sets `[hidden] { display: none; }` but bootstrap.min.css set `[hidden] { display: none !important; }` so we also need the `!important` here to be able to override the default hidden behavior on the sphinx rendered scikit-learn.org. See: https://github.com/scikit-learn/scikit-learn/issues/21755 */display: inline-block !important;position: relative;}#sk-container-id-1 div.sk-text-repr-fallback {display: none;}</style><div id=\"sk-container-id-1\" class=\"sk-top-container\"><div class=\"sk-text-repr-fallback\"><pre>RandomForestRegressor()</pre><b>In a Jupyter environment, please rerun this cell to show the HTML representation or trust the notebook. <br />On GitHub, the HTML representation is unable to render, please try loading this page with nbviewer.org.</b></div><div class=\"sk-container\" hidden><div class=\"sk-item\"><div class=\"sk-estimator sk-toggleable\"><input class=\"sk-toggleable__control sk-hidden--visually\" id=\"sk-estimator-id-1\" type=\"checkbox\" checked><label for=\"sk-estimator-id-1\" class=\"sk-toggleable__label sk-toggleable__label-arrow\">RandomForestRegressor</label><div class=\"sk-toggleable__content\"><pre>RandomForestRegressor()</pre></div></div></div></div></div>"
      ],
      "text/plain": [
       "RandomForestRegressor()"
      ]
     },
     "execution_count": 8,
     "metadata": {},
     "output_type": "execute_result"
    }
   ],
   "source": [
    "model = RandomForestRegressor()\n",
    "model.fit(X, y)"
   ]
  },
  {
   "cell_type": "code",
   "execution_count": 9,
   "id": "8a950d8c",
   "metadata": {
    "execution": {
     "iopub.execute_input": "2023-05-07T12:29:10.523900Z",
     "iopub.status.busy": "2023-05-07T12:29:10.522969Z",
     "iopub.status.idle": "2023-05-07T12:29:10.575764Z",
     "shell.execute_reply": "2023-05-07T12:29:10.574495Z"
    },
    "papermill": {
     "duration": 0.061566,
     "end_time": "2023-05-07T12:29:10.578547",
     "exception": false,
     "start_time": "2023-05-07T12:29:10.516981",
     "status": "completed"
    },
    "tags": []
   },
   "outputs": [
    {
     "name": "stdout",
     "output_type": "stream",
     "text": [
      "Mean Squared Error (MSE): 14.87435350519896\n",
      "R-squared Score: 0.5906042058257612\n"
     ]
    }
   ],
   "source": [
    "y_pred = model.predict(X_test)\n",
    "\n",
    "mse = mean_squared_error(y_test, y_pred)\n",
    "r2 = r2_score(y_test, y_pred)\n",
    "\n",
    "print(\"Mean Squared Error (MSE):\", mse)\n",
    "print(\"R-squared Score:\", r2)\n"
   ]
  },
  {
   "cell_type": "code",
   "execution_count": null,
   "id": "79478209",
   "metadata": {
    "papermill": {
     "duration": 0.004724,
     "end_time": "2023-05-07T12:29:10.588041",
     "exception": false,
     "start_time": "2023-05-07T12:29:10.583317",
     "status": "completed"
    },
    "tags": []
   },
   "outputs": [],
   "source": []
  },
  {
   "cell_type": "code",
   "execution_count": null,
   "id": "c5604ead",
   "metadata": {
    "papermill": {
     "duration": 0.004503,
     "end_time": "2023-05-07T12:29:10.597165",
     "exception": false,
     "start_time": "2023-05-07T12:29:10.592662",
     "status": "completed"
    },
    "tags": []
   },
   "outputs": [],
   "source": []
  },
  {
   "cell_type": "code",
   "execution_count": null,
   "id": "20157a14",
   "metadata": {
    "papermill": {
     "duration": 0.004338,
     "end_time": "2023-05-07T12:29:10.606118",
     "exception": false,
     "start_time": "2023-05-07T12:29:10.601780",
     "status": "completed"
    },
    "tags": []
   },
   "outputs": [],
   "source": []
  },
  {
   "cell_type": "code",
   "execution_count": null,
   "id": "c0468130",
   "metadata": {
    "papermill": {
     "duration": 0.004225,
     "end_time": "2023-05-07T12:29:10.614904",
     "exception": false,
     "start_time": "2023-05-07T12:29:10.610679",
     "status": "completed"
    },
    "tags": []
   },
   "outputs": [],
   "source": []
  }
 ],
 "metadata": {
  "kernelspec": {
   "display_name": "Python 3",
   "language": "python",
   "name": "python3"
  },
  "language_info": {
   "codemirror_mode": {
    "name": "ipython",
    "version": 3
   },
   "file_extension": ".py",
   "mimetype": "text/x-python",
   "name": "python",
   "nbconvert_exporter": "python",
   "pygments_lexer": "ipython3",
   "version": "3.10.10"
  },
  "papermill": {
   "default_parameters": {},
   "duration": 16.44907,
   "end_time": "2023-05-07T12:29:11.643117",
   "environment_variables": {},
   "exception": null,
   "input_path": "__notebook__.ipynb",
   "output_path": "__notebook__.ipynb",
   "parameters": {},
   "start_time": "2023-05-07T12:28:55.194047",
   "version": "2.4.0"
  }
 },
 "nbformat": 4,
 "nbformat_minor": 5
}
